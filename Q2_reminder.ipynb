{
 "cells": [
  {
   "cell_type": "code",
   "execution_count": 1,
   "metadata": {
    "collapsed": true
   },
   "outputs": [],
   "source": [
    "import pandas as pd\n",
    "import numpy as np\n",
    "from tqdm import tqdm"
   ]
  },
  {
   "cell_type": "code",
   "execution_count": 2,
   "metadata": {
    "collapsed": true
   },
   "outputs": [],
   "source": [
    "import gspread\n",
    "from oauth2client.service_account import ServiceAccountCredentials\n",
    "\n",
    "scope = ['https://spreadsheets.google.com/feeds']\n",
    "\n",
    "credentials = ServiceAccountCredentials.from_json_keyfile_name('My Project-bd4715ffe9fb.json', scope)\n",
    "\n",
    "gc = gspread.authorize(credentials)"
   ]
  },
  {
   "cell_type": "code",
   "execution_count": 3,
   "metadata": {
    "collapsed": true
   },
   "outputs": [],
   "source": [
    "# Opening GSheets\n",
    "\n",
    "# d1 = Randomizacja, daty, e-mail\n",
    "d1 = gc.open('Randomizacja, daty, e-mail')\n",
    "\n",
    "# d2 = Q2 (Responses)\n",
    "d2 = gc.open('Q2 (Responses)')\n"
   ]
  },
  {
   "cell_type": "code",
   "execution_count": 4,
   "metadata": {
    "collapsed": true
   },
   "outputs": [],
   "source": [
    "# Downloading Gsheets\n",
    "\n",
    "# w1 = Randomizacja, daty, e-mail\n",
    "w1 = d1.sheet1\n",
    "\n",
    "# w2 = Q2 (Responses)\n",
    "w2 = d2.sheet1"
   ]
  },
  {
   "cell_type": "code",
   "execution_count": 5,
   "metadata": {
    "collapsed": true
   },
   "outputs": [],
   "source": [
    "# Downloading lists of emails\n",
    "\n",
    "mails1 = w1.col_values(3)\n",
    "mails2 = w2.col_values(2)"
   ]
  },
  {
   "cell_type": "code",
   "execution_count": 6,
   "metadata": {
    "collapsed": true
   },
   "outputs": [],
   "source": [
    "# Removing empty spaces\n",
    "\n",
    "mails1[:] = [item for item in mails1 if item != '']\n",
    "mails2[:] = [item for item in mails2 if item != '']"
   ]
  },
  {
   "cell_type": "code",
   "execution_count": 8,
   "metadata": {},
   "outputs": [
    {
     "name": "stdout",
     "output_type": "stream",
     "text": [
      "lol\n",
      "lol\n",
      "lol\n",
      "lol\n",
      "lol\n",
      "lol\n",
      "lol\n",
      "lol\n",
      "lol\n",
      "lol\n",
      "lol\n",
      "lol\n",
      "lol\n",
      "lol\n",
      "lol\n",
      "lol\n",
      "lol\n",
      "lol\n",
      "lol\n",
      "lol\n",
      "lol\n",
      "lol\n",
      "lol\n",
      "lol\n",
      "lol\n",
      "lol\n",
      "lol\n",
      "lol\n",
      "lol\n",
      "lol\n",
      "lol\n",
      "lol\n",
      "lol\n",
      "lol\n",
      "lol\n",
      "lol\n",
      "lol\n",
      "lol\n",
      "lol\n",
      "lol\n",
      "lol\n",
      "lol\n",
      "lol\n",
      "lol\n",
      "lol\n",
      "lol\n",
      "lol\n",
      "lol\n",
      "lol\n",
      "lol\n",
      "lol\n",
      "lol\n",
      "lol\n",
      "lol\n",
      "lol\n"
     ]
    }
   ],
   "source": [
    "for idx, mail in enumerate(mails2):\n",
    "    print(\"lol\")\n",
    "    'print({} \" Done!\\n\")'.format(idx)"
   ]
  },
  {
   "cell_type": "code",
   "execution_count": null,
   "metadata": {
    "scrolled": false
   },
   "outputs": [],
   "source": [
    "# Main code for updating cells (imports dates from \"Q2\" to \"Randomizacja...\")\n",
    "\n",
    "a = np.in1d(mails2, mails1)\n",
    "for idx, mail in tqdm(enumerate(mails2)):\n",
    "    if a[idx] == True:\n",
    "        # checks if the cell isn't empty\n",
    "        if w1.cell(w1.find(mail).row, 11).value != '':\n",
    "            # if the cell is not empty then updates it\n",
    "            w1.update_cell(w1.find(mail).row, 11, w2.cell(w2.find(mail).row, 1).value)\n",
    "            'print({} \" Done!\\n\")'.format(idx)\n",
    "        else:\n",
    "            'print({} \" Done, no change!\\n\")'.format(idx)\n",
    "            pass\n",
    "    else:\n",
    "        # prints the mail to the console so it can be updated manually\n",
    "        print(mails2[idx] + \" is NOT in the batch\\n\")"
   ]
  },
  {
   "cell_type": "code",
   "execution_count": null,
   "metadata": {},
   "outputs": [],
   "source": [
    "len(mails1)"
   ]
  },
  {
   "cell_type": "code",
   "execution_count": null,
   "metadata": {},
   "outputs": [],
   "source": [
    "len(np.in1d(mails2, mails1))"
   ]
  }
 ],
 "metadata": {
  "kernelspec": {
   "display_name": "Python 3",
   "language": "python",
   "name": "python3"
  },
  "language_info": {
   "codemirror_mode": {
    "name": "ipython",
    "version": 3
   },
   "file_extension": ".py",
   "mimetype": "text/x-python",
   "name": "python",
   "nbconvert_exporter": "python",
   "pygments_lexer": "ipython3",
   "version": "3.6.1"
  }
 },
 "nbformat": 4,
 "nbformat_minor": 2
}
